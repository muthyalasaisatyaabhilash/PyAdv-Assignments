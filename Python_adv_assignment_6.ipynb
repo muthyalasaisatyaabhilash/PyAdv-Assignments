{
 "cells": [
  {
   "cell_type": "markdown",
   "id": "62146d91",
   "metadata": {},
   "source": [
    "Q1.Describe three applications for exception processing.\n",
    "A.\n",
    "  1.Error handling: Exceptions are used to handle errors that occur during the execution of a program. For example, when a           program tries to access a file that does not exist, a FileNotFoundError exception can be raised, and the program can catch       the exception and display an appropriate error message to the user.\n",
    "  2.Input validation: Exceptions can be used to validate user input or data from an external source. For example, if a program       expects an integer as input, it can raise a ValueError exception if the input is not a valid integer.\n",
    "  3.Resource management: Exceptions can be used to manage resources that need to be acquired and released during the execution       of a program. For example, when opening a file, an exception can be raised if the file cannot be opened. The program can         catch the exception and release any resources that have been acquired, such as memory or file handles, to ensure that they       are not leaked.\n",
    "  \n",
    "  \n",
    "Q2.What happens if you don't do something extra to treat an exception? \n",
    "A.If you do not handle an exception in your code, it will propagate up the call stack until it is caught by an exception handler or reaches the top-level of the program. If the exception is not caught, the program will terminate with an error message. The error message will include the name of the exception that was raised and a traceback that shows the sequence of function calls that led to the exception being raised.\n",
    "\n",
    "\n",
    "Q3.What are your options for recovering from an exception in your script?\n",
    "A.There are several options for recovering from an exception in a Python script:\n",
    "   1.Catch and handle the exception: You can catch the exception using a try-except statement, and then handle it in the except      block\n",
    "   2.Let the exception propagate: You can let the exception propagate up the call stack to be caught by a higher-level handler.      This can be useful if you don't want to handle the exception in the current scope, but want to let a higher-level handler        deal with it.\n",
    "   3.Raise a new exception: If you catch an exception, you can raise a new exception with a more specific or relevant error          message.\n",
    "   4.Return a default value: If an exception is raised, you can return a default value instead of raising the exception.\n",
    "   5.Use the finally block: If you want to execute some code regardless of whether an exception is raised or not, you can use        the finally block.\n",
    "   \n",
    "   \n",
    "Q4.Describe two methods for triggering exceptions in your script.\n",
    "A.There are two main ways to trigger exceptions in a Python script:\n",
    "  1.Raising exceptions: You can raise an exception in your code using the \"raise\" statement. For example, you might raise an         exception if a certain condition is not met, like if a required input argument is missing. The raise statement allows you to     specify the type of exception you want to raise and an optional message that describes the error.\n",
    "  2.Handling exceptions: Another way to trigger exceptions is by handling them in your code. For example, you might wrap a           section of your code in a \"try\" block, and catch any exceptions that are raised using a \"except\" block. If an exception         occurs, the \"except\" block will be executed and you can take appropriate action to handle the exception, such as logging the     error or displaying a message to the user.\n",
    "\n",
    "\n",
    "Q5.Identify two methods for specifying actions to be executed at termination time, regardless of whether or not an exception exists.\n",
    "A.In Python, there are two main methods for specifying actions to be executed at termination time, regardless of whether or not an exception exists:\n",
    "   1.Using the \"finally\" clause: The \"finally\" clause can be used in conjunction with a \"try\" block to specify actions that          should be executed regardless of whether an exception is raised or not. The \"finally\" clause will always be executed,            regardless of whether an exception is caught or not. This makes it a useful mechanism for performing cleanup tasks, such as      closing files, releasing resources, or restoring the state of your program.\n",
    "   2.Using the \"atexit\" module: Another method for specifying actions to be executed at termination time is by using the              \"atexit\" module. The \"atexit\" module provides a convenient way to register functions that will be called when the Python        interpreter terminates, regardless of whether an exception exists or not. You can register functions using the                  \"atexit.register()\" method, and they will be executed in the reverse order of registration when the Python interpreter          terminates\n"
   ]
  }
 ],
 "metadata": {
  "kernelspec": {
   "display_name": "Python 3 (ipykernel)",
   "language": "python",
   "name": "python3"
  },
  "language_info": {
   "codemirror_mode": {
    "name": "ipython",
    "version": 3
   },
   "file_extension": ".py",
   "mimetype": "text/x-python",
   "name": "python",
   "nbconvert_exporter": "python",
   "pygments_lexer": "ipython3",
   "version": "3.9.12"
  }
 },
 "nbformat": 4,
 "nbformat_minor": 5
}
