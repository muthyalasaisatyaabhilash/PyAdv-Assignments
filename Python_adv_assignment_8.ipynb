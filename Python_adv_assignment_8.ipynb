{
 "cells": [
  {
   "cell_type": "markdown",
   "id": "f22ad1dd",
   "metadata": {},
   "source": [
    "Q1.What are the two latest user-defined exception constraints in Python 3.X?\n",
    "A.User-Defined Exceptions in Python\n",
    "Some commonly raised Exceptions are ArithmeticError, AttributeError, ImportError, IOError, FileNotFoundError, etc.\n",
    "\n",
    "Q2.How are class-based exceptions that have been raised matched to handlers?\n",
    "A.In Python, when an exception is raised, the interpreter searches for an exception handler that can handle that exception. The matching process is based on the type of the exception object that was raised, and the type of the exceptions that the handler is capable of handling.\n",
    "  When a class-based exception is raised, the interpreter searches for an exception handler that can handle exceptions of that class or any of its superclasses. If a matching handler is found, the interpreter transfers control to the handler, which can take appropriate action such as logging the error, displaying a message to the user, or raising a different exception.\n",
    "  \n",
    "  \n",
    "Q3.Describe two methods for attaching context information to exception artefacts.\n",
    "A.When dealing with exceptions in Python, it can be helpful to attach additional context information to the exception artefacts (such as the exception object or traceback) to provide more information about the error and help with debugging. Here are two common methods for attaching context information to exception artefacts:\n",
    "  1.Adding context information as exception attributes:\n",
    "    You can add additional context information to an exception by creating a custom exception class that defines additional         attributes for the exception. These attributes can be set when the exception is raised to provide additional information         about the error.\n",
    "  2.Using the with_traceback method to attach traceback information:\n",
    "    You can also use the with_traceback method to attach additional traceback information to an exception. This can be helpful       if you need to re-raise an exception with a different traceback or if you want to attach additional information to an           existing traceback. \n",
    "    \n",
    "    \n",
    "Q4.Describe two methods for specifying the text of an exception object's error message.\n",
    "A.When raising an exception in Python, you can specify the text of the error message in several ways. Here are two common methods:\n",
    "  1.Passing a string message to the exception constructor:\n",
    "    One way to specify the text of an exception object's error message is to pass a string message to the exception constructor.\n",
    "  2.Overriding the __str__ method of the exception class:\n",
    "    Another way to specify the text of an exception object's error message is to override the __str__ method of the exception       class. This method should return a string that represents the error message.\n",
    "    \n",
    "    \n",
    "Q5.Why do you no longer use string-based exceptions?\n",
    "A.String-based exceptions were used in older versions of Python to raise and catch exceptions by passing a string as the exception type.\n",
    "This style of raising and catching exceptions is no longer recommended in modern Python code for several reasons:\n",
    "1.It is less explicit: Raising string-based exceptions can make it more difficult for other developers to understand the code     and the intent behind the exception. Explicitly defining exception classes provides a clear structure for error handling that   makes the code more readable and maintainable.\n",
    "2.It is less informative: String-based exceptions do not provide any additional information about the error that occurred, such   as a message or error code. This can make it more difficult to debug problems in the code and may require additional effort to   determine the root cause of an error.\n",
    "3.It is less robust: String-based exceptions are less robust than explicitly defined exception classes because they rely on the   string name of the exception, which can be easily misspelled or changed accidentally. This can lead to errors being raised and   caught in unexpected ways, or even not being caught at all.\n"
   ]
  }
 ],
 "metadata": {
  "kernelspec": {
   "display_name": "Python 3 (ipykernel)",
   "language": "python",
   "name": "python3"
  },
  "language_info": {
   "codemirror_mode": {
    "name": "ipython",
    "version": 3
   },
   "file_extension": ".py",
   "mimetype": "text/x-python",
   "name": "python",
   "nbconvert_exporter": "python",
   "pygments_lexer": "ipython3",
   "version": "3.9.12"
  }
 },
 "nbformat": 4,
 "nbformat_minor": 5
}
