{
 "cells": [
  {
   "cell_type": "markdown",
   "id": "37b060a5",
   "metadata": {},
   "source": [
    "Q1. What is the difference between __getattr__ and __getattribute__?\n",
    "A.Both __getattr__ and __getattribute__ are methods in Python that are called when an attribute lookup is performed on an object. However, there are some key differences between them:\n",
    "1.__getattr__ is only called when the requested attribute is not found through the usual lookup process, whereas        __getattribute__ is called for every attribute access, regardless of whether the attribute is present or not.\n",
    "2.__getattr__ is a fallback mechanism for handling attributes that are not present on an object, whereas __getattribute__ is the   main mechanism for intercepting and handling attribute access in Python.\n",
    "3.__getattr__ takes a single argument, the name of the attribute being accessed, whereas __getattribute__ takes two arguments,     the name of the attribute being accessed and the object on which the access is taking place.\n",
    "4.Because __getattribute__ is called for every attribute access, it can be more powerful but also more dangerous than    __getattr__. If __getattribute__ is not implemented carefully, it can cause infinite recursion or other unintended side           effects.\n",
    "\n",
    "Q2.What is the difference between properties and descriptors?\n",
    "A.Properties and descriptors are both mechanisms in Python for controlling access to an object's attributes, but they differ in their implementation details and the level of control they provide.\n",
    "   A property is a built-in Python mechanism for controlling access to an object's attributes. It allows you to define methods that are called when an attribute is accessed, set, or deleted. Properties are implemented using special syntax, where the methods are defined as functions with the @property, @attribute_name.setter, and @attribute_name.deleter decorators.\n",
    "   A descriptor, on the other hand, is a more general mechanism for controlling attribute access in Python. It allows you to define classes that can be used as attributes of other objects, and that provide custom behavior when accessed. Descriptors are implemented by defining a class that has one or more of the special methods __get__, __set__, and __delete__, which are called when the attribute is accessed, set, or deleted.\n",
    "   \n",
    "   \n",
    "Q3.What are the key differences in functionality between __getattr__ and __getattribute__, as well as properties and descriptors?\n",
    "A.__getattr__ and __getattribute__ are both methods that are called when an attribute lookup is performed on an object, but there are some key differences in their functionality:\n",
    "1.__getattr__ is only called when the requested attribute is not found through the usual lookup process, whereas    __getattribute__ is called for every attribute access, regardless of whether the attribute is present or not.\n",
    "2.__getattr__ is a fallback mechanism for handling attributes that are not present on an object, whereas __getattribute__ is the    main mechanism for intercepting and handling attribute access in Python.\n",
    "3.__getattr__ takes a single argument, the name of the attribute being accessed, whereas __getattribute__ takes two arguments,      the name of the attribute being accessed and the object on which the access is taking place.\n",
    "3.Because __getattribute__ is called for every attribute access, it can be more powerful but also more dangerous than  __getattr__. If __getattribute__ is not implemented carefully, it can cause infinite recursion or other unintended side           effects.\n",
    " \n",
    "Properties and descriptors are also both mechanisms for controlling attribute access, but they differ in their implementation and functionality:\n",
    "   Properties are a built-in Python mechanism for controlling access to an object's attributes. They allow you to define methods that are called when an attribute is accessed, set, or deleted. Properties are implemented using special syntax, where the methods are defined as functions with the @property, @attribute_name.setter, and @attribute_name.deleter decorators.\n",
    "    Descriptors, on the other hand, are a more general mechanism for controlling attribute access in Python. They allow you to define classes that can be used as attributes of other objects and provide custom behavior when accessed. Descriptors are implemented by defining a class that has one or more of the special methods __get__, __set__, and __delete__, which are called when the attribute is accessed, set, or deleted."
   ]
  }
 ],
 "metadata": {
  "kernelspec": {
   "display_name": "Python 3 (ipykernel)",
   "language": "python",
   "name": "python3"
  },
  "language_info": {
   "codemirror_mode": {
    "name": "ipython",
    "version": 3
   },
   "file_extension": ".py",
   "mimetype": "text/x-python",
   "name": "python",
   "nbconvert_exporter": "python",
   "pygments_lexer": "ipython3",
   "version": "3.9.12"
  }
 },
 "nbformat": 4,
 "nbformat_minor": 5
}
