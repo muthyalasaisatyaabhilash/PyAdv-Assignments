{
 "cells": [
  {
   "cell_type": "markdown",
   "id": "52b127f3",
   "metadata": {},
   "source": [
    "Q1.What is the meaning of multiple inheritance?\n",
    "A.Multiple inheritance is a feature in object-oriented programming that allows a class to inherit from multiple superclasses, instead of just one. This means that a class can inherit attributes and behaviors from more than one parent class.\n",
    "For example, consider two classes: \"Shape\" and \"Color\". If you have a class \"Rectangle\" that needs to inherit both the attributes and behaviors of a shape and a color, you can use multiple inheritance to inherit from both \"Shape\" and \"Color\" classes.\n",
    "Multiple inheritance can be useful in modeling complex relationships between classes, but it can also make the code more complex and harder to maintain. It is generally considered a more advanced feature and should be used with caution, especially if you are just starting with object-oriented programming. In many cases, alternative design patterns, such as composition or delegation, can be used to achieve similar results while keeping the code simpler and more maintainable.\n",
    "\n",
    "\n",
    "Q2.What is the concept of delegation?\n",
    "A.Delegation is a design pattern in object-oriented programming where one object, the delegate, is responsible for handling a request on behalf of another object, the delegator. In delegation, the delegator delegates some of its responsibilities to the delegate, which performs the task and returns the result to the delegator.\n",
    "This design pattern is used to achieve a cleaner separation of responsibilities and to reduce the coupling between objects. By delegating responsibilities to a delegate, the delegator can remain small and focused, while the delegate can handle the implementation details and can evolve independently of the delegator.\n",
    "\n",
    "\n",
    "Q3.What is the concept of composition?\n",
    "A.Composition is a design pattern in object-oriented programming where an object is composed of other objects, each responsible for a specific aspect of the overall behavior. In composition, objects collaborate by combining their behaviors, instead of inheriting attributes and behaviors from a common ancestor.\n",
    "\n",
    "\n",
    "Q4.What are bound methods and how do we use them?\n",
    "A.In Python, a bound method is a method that is bound to an instance of a class. When you call a method on an instance of a class, the instance is passed to the method as the first argument, often referred to as \"self\". This creates a bound method, which is a callable object that knows both the instance and the method being called.\n",
    "\n",
    "\n",
    "Q5.What is the purpose of pseudoprivate attributes?\n",
    "A.In Python, pseudoprivate attributes are attributes that are intended to be private to the implementation of a class, but are not actually enforced as private by the language. Pseudoprivate attributes are often indicated by a double underscore prefix, for example __private_attribute."
   ]
  }
 ],
 "metadata": {
  "kernelspec": {
   "display_name": "Python 3 (ipykernel)",
   "language": "python",
   "name": "python3"
  },
  "language_info": {
   "codemirror_mode": {
    "name": "ipython",
    "version": 3
   },
   "file_extension": ".py",
   "mimetype": "text/x-python",
   "name": "python",
   "nbconvert_exporter": "python",
   "pygments_lexer": "ipython3",
   "version": "3.9.12"
  }
 },
 "nbformat": 4,
 "nbformat_minor": 5
}
