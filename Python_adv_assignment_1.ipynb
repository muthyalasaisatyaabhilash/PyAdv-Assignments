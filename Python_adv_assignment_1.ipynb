{
 "cells": [
  {
   "cell_type": "markdown",
   "id": "2f2aa61f",
   "metadata": {},
   "source": [
    "Q1. What is the purpose of Python's OOP?\n",
    "A.The purpose of Object-Oriented Programming (OOP) in Python is to provide a way to structure and organize code in a manner that allows for easy maintenance, code reuse, and abstraction of implementation details. It provides a way to define objects that encapsulate data and behavior, and it makes it possible to build complex applications by creating and composing objects in a flexible and organized way.\n",
    "In OOP, objects are instances of classes that define the attributes and methods that objects can have. This provides a way to model real-world entities as objects in the code and to capture the relationships between them. By using OOP, you can write code that is easier to understand, maintain, and extend, which is especially useful for larger, more complex software projects.\n",
    "\n",
    "\n",
    "Q2.Where does an inheritance search look for an attribute?\n",
    "A.In Python, an inheritance search looks for an attribute in the following order:\n",
    "  1.The object's own dictionary.\n",
    "  2.The class's dictionary.\n",
    "  3.The parent class's dictionary, and so on, following the inheritance hierarchy, until the attribute is found or until the end     of the hierarchy is reached.\n",
    "   The inheritance hierarchy defines the order in which parent classes are searched for attributes. If an attribute is not found in the current class, the search continues with its parent class, and so on, until the attribute is found or until there are no more parent classes to search. If the attribute is not found in the entire inheritance hierarchy, an AttributeError is raised.\n",
    "It's important to note that in Python, attributes can be overridden at any level in the inheritance hierarchy, allowing you to customize the behavior of an object in a flexible and organized way.\n",
    "\n",
    "\n",
    "Q3.How do you distinguish between a class object and an instance object?\n",
    "A.In Python, you can distinguish between a class object and an instance object by checking the type of the object.\n",
    "A class object is an object that represents a blueprint for creating instances of that class. It is created using the \"class\" keyword, and it defines the attributes and methods that instances of the class will have. You can create an instance of a class by calling the class as if it were a function.\n",
    "An instance object is an object that has been created from a class. It contains its own copy of the attributes and methods defined in the class, and it can have its own unique values for those attributes.\n",
    "\n",
    "\n",
    "Q4.What makes the first argument in a class’s method function special?\n",
    "A.The first argument in a class's method function is special because it refers to the instance of the class that the method was called on. This argument is commonly named self, although it can be named anything you like.\n",
    "The \"self\" argument is used to access the attributes and methods of the instance that the method was called on. It acts as a reference to the instance and allows you to manipulate its state and behavior from within the method.\n",
    "\n",
    "\n",
    "Q5.What is the purpose of the __init__ method?\n",
    "A.The __init__ method is a special method in Python that is used to initialize an object when it is created. It is called automatically when a new instance of a class is created, and it allows you to specify the initial state of the object. The __init__ method is defined within a class and is commonly used to set the values of instance variables, allocate resources, and perform any other operations that are necessary to prepare the object for use.\n",
    "It's important to note that the __init__ method is called only once when an instance is created, and it is not called again for that instance during the lifetime of the program. If you need to perform any additional setup operations for an instance after it has been created, you can define additional methods in the class and call them as needed.\n",
    "\n",
    "\n",
    "\n",
    "Q6.What is the process for creating a class instance?\n",
    "A.The process for creating a class instance in Python involves the following steps:\n",
    "  1.Define a class using the class keyword and the class name.\n",
    "  2.Define the class's attributes and methods within the class definition.\n",
    "  3.Call the class as if it were a function to create a new instance of the class. You can pass any arguments that the class's        __init__ method requires to initialize the instance.\n",
    "  \n",
    "  \n",
    "Q7.What is the process for creating a class?\n",
    "A.The process for creating a class in Python involves the following steps:\n",
    "  1.Use the class keyword followed by the class name to define a new class.\n",
    "  2.Define the class's attributes and methods within the class definition.\n",
    "  3.Optionally, define a special method called __init__ to initialize the class instance when it is created.\n",
    "  4.Optionally, define other special methods to add custom behavior to the class.\n",
    "  \n",
    "  \n",
    "  \n",
    "Q8.How would you define the superclasses of a class?\n",
    "A.In Python, a class can inherit from one or more superclasses to reuse and extend their attributes and behaviors. To define the superclasses of a class, you include them in parentheses after the class name when defining the class.\n",
    "\n",
    "\n",
    "\n"
   ]
  }
 ],
 "metadata": {
  "kernelspec": {
   "display_name": "Python 3 (ipykernel)",
   "language": "python",
   "name": "python3"
  },
  "language_info": {
   "codemirror_mode": {
    "name": "ipython",
    "version": 3
   },
   "file_extension": ".py",
   "mimetype": "text/x-python",
   "name": "python",
   "nbconvert_exporter": "python",
   "pygments_lexer": "ipython3",
   "version": "3.9.12"
  }
 },
 "nbformat": 4,
 "nbformat_minor": 5
}
