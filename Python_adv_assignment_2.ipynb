{
 "cells": [
  {
   "cell_type": "markdown",
   "id": "2f93ee76",
   "metadata": {},
   "source": [
    "Q1. What is the relationship between classes and modules?\n",
    "A.In Python, classes are defined within modules, which are simply files that contain a collection of related definitions and statements. A module serves as a container for organizing related classes, functions, and variables into a single unit, making it easier to manage and reuse code.\n",
    "Each module has its own namespace, which is a collection of names that are used to identify the variables, functions, and classes defined within the module. When you import a module, you can access its classes and other definitions using the module name as a prefix. For example, if you have a module named my_module that defines a class named MyClass, you can import the module and access the class as my_module.MyClass.\n",
    "\n",
    "\n",
    "Q2.How do you make instances and classes?\n",
    "A.To create instances of a class, you need to first define the class. Once you have defined the class, you can create instances of it by calling the class as if it were a function.\n",
    "To define a class, you use the class keyword followed by the class name, and then specify the class's attributes and methods within the class definition. The __init__ method is a special method that is called when an instance of the class is created, and it is used to initialize the instance's attributes. Other methods define the behavior of the class and can be called on instances of the class.\n",
    "\n",
    "\n",
    "Q3.Where and how should be class attributes created?\n",
    "A.Class attributes are attributes that are shared by all instances of a class. They are defined outside of any method in the class definition and are usually created by assigning values to variables directly within the class definition.\n",
    "\n",
    "\n",
    "Q4.Where and how are instance attributes created?\n",
    "A.Instance attributes are attributes that are specific to each instance of a class. They are usually created within the __init__ method, which is a special method that is called when an instance of the class is created.\n",
    "\n",
    "\n",
    "Q5.What does the term \"self\" in a Python class mean?\n",
    "A.In Python, the term self refers to the instance of the class that the method is being called on. It is a conventional name for the first argument in a class method.\n",
    "The self argument is used to access the instance attributes and other methods of the class within the method. In other words, the self argument allows you to access the data and behavior associated with an instance of the class.\n",
    "\n",
    "\n",
    "Q6.How does a Python class handle operator overloading?\n",
    "A.In Python, operator overloading is achieved by implementing special methods in a class that have double underscores, such as __add__, __sub__, __mul__, __div__, and so on. These special methods allow you to define the behavior of the class when it is used with certain operators, such as +, -, *, /, etc.\n",
    "\n",
    "\n",
    "Q7.When do you consider allowing operator overloading of your classes?\n",
    "A.You should consider allowing operator overloading in your classes when it makes sense in terms of the class's behavior and when it makes the code more readable and easier to use.\n",
    "For example, if you have a class that represents a mathematical object, such as a complex number or a vector, allowing operator overloading can make the code more intuitive and easier to use. By overloading operators such as +, -, *, /, etc., you can define the expected mathematical behavior of the class and make it easier for users of the class to perform operations on instances of the class.\n",
    "\n",
    "\n",
    "Q8.What is the most popular form of operator overloading?\n",
    "A.The most popular form of operator overloading in Python is the use of special methods to overload the built-in operators, such as +, -, *, /, etc.\n",
    "Special methods are a special type of method that have double underscores, such as __add__, __sub__, __mul__, __div__, and so on. By implementing these special methods in your class, you can control how instances of the class behave when used with the built-in operators.\n",
    "\n",
    "\n",
    "Q9.What are the two most important concepts to grasp in order to comprehend Python OOP code?\n",
    "A.The two most important concepts to grasp in order to comprehend Python OOP code are:\n",
    "  1.Classes and objects: Understanding the distinction between classes and objects is essential to understanding how Python OOP     works. Classes define the structure and behavior of objects, while objects are instances of classes that contain their own       unique data and can interact with each other.\n",
    "\n",
    "  2.Method resolution order (MRO): MRO is the order in which a class's attributes and methods are searched when looking for a       specific attribute or method. MRO is important because it determines how inheritance works in Python and affects how the         attributes and methods of superclasses and subclasses are accessed. A basic understanding of MRO and inheritance is             necessary to be able to understand the behavior of complex class hierarchies in Python."
   ]
  }
 ],
 "metadata": {
  "kernelspec": {
   "display_name": "Python 3 (ipykernel)",
   "language": "python",
   "name": "python3"
  },
  "language_info": {
   "codemirror_mode": {
    "name": "ipython",
    "version": 3
   },
   "file_extension": ".py",
   "mimetype": "text/x-python",
   "name": "python",
   "nbconvert_exporter": "python",
   "pygments_lexer": "ipython3",
   "version": "3.9.12"
  }
 },
 "nbformat": 4,
 "nbformat_minor": 5
}
