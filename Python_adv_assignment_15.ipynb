{
 "cells": [
  {
   "cell_type": "markdown",
   "id": "7f1faf17",
   "metadata": {},
   "source": [
    "Q1.What are the new features added in Python 3.8 version?\n",
    "A.1.Assignment expressions.\n",
    "  2.Positional-only parameters.\n",
    "  3.Parallel filesystem cache for compiled bytecode files.\n",
    "  4.Debug build uses the same ABI as release build.\n",
    "  5.f-strings support = for self-documenting expressions and debugging.\n",
    "  6.PEP 578: Python Runtime Audit Hooks.\n",
    "  7.PEP 587: Python Initialization Configuration.\n",
    "  \n",
    "Q2.What is monkey patching in Python?\n",
    "A.Monkey patching in Python is a technique that allows developers to modify the behavior of a module or class at runtime by replacing its attributes or methods with new ones. This is done by directly modifying the original module or class, often by importing it into the current namespace and overwriting its attributes or methods with new ones.\n",
    "  Monkey patching can be useful in situations where it is necessary to extend or modify the behavior of an existing module or class, without having to modify the original source code. For example, monkey patching can be used to add new functionality to a third-party library or to fix a bug in an existing module that cannot be easily fixed in the original source code.\n",
    "  While monkey patching can be a powerful technique, it should be used with caution, as it can lead to unexpected behavior and hard-to-debug issues if not used properly. Monkey patching can also make code harder to maintain, as it can introduce hidden dependencies and make it difficult to reason about the behavior of a program. It is generally recommended to avoid monkey patching when possible and to use other techniques such as subclassing or composition instead.\n",
    "  \n",
    "Q3.What is the difference between a shallow copy and deep copy?\n",
    "A.In Python, a shallow copy creates a new object that references the original object's memory address. This means that changes made to the shallow copy will also be reflected in the original object. On the other hand, a deep copy creates a new object with a new memory address, which is a complete and independent copy of the original object.\n",
    "  A shallow copy of an object can be created using the slicing operator or the copy() method of a list or dictionary. For example, new_list = old_list[:] or new_dict = old_dict.copy() will create a shallow copy of the original object.\n",
    "  A deep copy of an object can be created using the copy.deepcopy() method, which recursively creates copies of all nested objects. For example, new_list = copy.deepcopy(old_list) or new_dict = copy.deepcopy(old_dict) will create a deep copy of the original object.\n",
    "  The main difference between a shallow copy and a deep copy is the level of independence of the copied object. A shallow copy will share some data with the original object, while a deep copy will be completely independent. Therefore, modifying a shallow copy can affect the original object, while modifying a deep copy will not.\n",
    "   \n",
    "   \n",
    "Q4.What is the maximum possible length of an identifier?\n",
    "A.In Python, the maximumWhat is generator comprehension? possible length of an identifier is not explicitly defined. However, the practical maximum length is determined by the maximum length of a string in Python, which is implementation-dependent.\n",
    " In CPython, the reference implementation of Python, the maximum length of a string is determined by the maximum value of the Py_ssize_t type, which is the native integer type used to represent the size of objects in memory. This value depends on the platform and the architecture of the system, but it is typically around 2^31-1 or 2^63-1, depending on whether the system is 32-bit or 64-bit.\n",
    " In practice, the maximum length of an identifier in Python is unlikely to be a limiting factor, as identifiers are typically short and concise for readability and ease of use. It is generally recommended to use descriptive but concise names for identifiers that convey their purpose and meaning clearly.\n",
    " \n",
    " \n",
    "Q5.What is generator comprehension? \n",
    "A.A generator comprehension is a concise way of creating a generator object in Python. It is similar to a list comprehension, but instead of creating a list, it creates a generator object that can be iterated over to produce a sequence of values.\n",
    "  Generator comprehensions are useful for creating large sequences of values that are generated on-the-fly, without the need to store them all in memory at once. This can be more memory-efficient than creating a list, especially for large or infinite sequences. Additionally, because generators are lazy and only generate values when needed, they can be more efficient than creating a list and then iterating over it.\n",
    "  \n",
    "  "
   ]
  }
 ],
 "metadata": {
  "kernelspec": {
   "display_name": "Python 3 (ipykernel)",
   "language": "python",
   "name": "python3"
  },
  "language_info": {
   "codemirror_mode": {
    "name": "ipython",
    "version": 3
   },
   "file_extension": ".py",
   "mimetype": "text/x-python",
   "name": "python",
   "nbconvert_exporter": "python",
   "pygments_lexer": "ipython3",
   "version": "3.9.12"
  }
 },
 "nbformat": 4,
 "nbformat_minor": 5
}
