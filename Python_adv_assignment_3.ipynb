{
 "cells": [
  {
   "cell_type": "markdown",
   "id": "c90ea3ae",
   "metadata": {},
   "source": [
    "Q1.What is the concept of an abstract superclass?\n",
    "A.An abstract superclass is a class that defines a common interface or set of behaviors that its subclasses are expected to implement or inherit. An abstract superclass does not provide a complete implementation for its methods or attributes, but rather serves as a blueprint for its subclasses to follow.\n",
    "The purpose of an abstract superclass is to provide a way to enforce a common interface across a group of related classes. This makes it possible to write code that interacts with instances of different subclasses in a consistent way, even if the implementation details of each subclass are different.\n",
    "In Python, an abstract superclass can be created using the abc (Abstract Base Class) module. This module provides tools for defining abstract classes and checking if a class is an abstract class. To create an abstract superclass, you can use the ABC class from the abc module as a base class, and mark methods as abstract using the @abstractmethod decorator.\n",
    "\n",
    "\n",
    "Q2.What happens when a class statement's top level contains a basic assignment statement?\n",
    "A.If a class definition's top-level code contains a basic assignment statement, then it creates a class-level variable. This variable can be accessed from within the class and its instances using the name of the variable.\n",
    "Instance-level variables, on the other hand, are created when an instance of the class is created and can only be accessed from that instance. In this example, the instance-level variable instance_variable is assigned a value when an instance of the class is created using the __init__ method. The value of the instance-level variable can be accessed using the dot notation on the instance object, such as obj.instance_variable.\n",
    "\n",
    "\n",
    "Q3.Why does a class need to manually call a superclass's __init__ method?\n",
    "A.In Python, a class needs to manually call the __init__ method of its superclass because inheritance in Python is not automatic. The __init__ method of a subclass is executed whenever an instance of that subclass is created, and the __init__ method of the superclass is not executed automatically.\n",
    "Therefore, if the superclass's __init__ method performs important initialization that the subclass needs to inherit, the subclass's __init__ method should call the superclass's __init__ method explicitly, usually using the super() function. The super() function returns a temporary object of the superclass, which allows you to call its methods.\n",
    "\n",
    "\n",
    "Q4.How can you augment, instead of completely replacing, an inherited method?\n",
    "A.You can augment an inherited method by calling the method from the superclass in the subclass method and then adding additional behavior to it. This allows you to extend or modify the behavior of the superclass method, rather than completely replacing it.To do this, you can use the super() function to call the method of the superclass.\n",
    "\n",
    "\n",
    "Q5.How is the local scope of a class different from that of a function?\n",
    "A.The local scope of a class and a function in Python are similar in many ways, but there are some key differences.\n",
    "In both cases, variables defined within the scope are local to that scope and are not accessible from outside. However, the scope of a class is different from the scope of a function in two main ways:\n",
    "   1.Class scope is shared among all instances of the class: In a class, all instances share the same set of attributes and          methods. When a class attribute or method is defined, it is shared among all instances of the class, and any changes made        to it by one instance will be reflected in all other instances.\n",
    "   2.Class scope persists across method calls: The scope of a class persists across method calls, meaning that a class's              attributes and methods are accessible from within any method of the class. In contrast, the scope of a function is only          active while the function is running and is reset each time the function is called"
   ]
  }
 ],
 "metadata": {
  "kernelspec": {
   "display_name": "Python 3 (ipykernel)",
   "language": "python",
   "name": "python3"
  },
  "language_info": {
   "codemirror_mode": {
    "name": "ipython",
    "version": 3
   },
   "file_extension": ".py",
   "mimetype": "text/x-python",
   "name": "python",
   "nbconvert_exporter": "python",
   "pygments_lexer": "ipython3",
   "version": "3.9.12"
  }
 },
 "nbformat": 4,
 "nbformat_minor": 5
}
